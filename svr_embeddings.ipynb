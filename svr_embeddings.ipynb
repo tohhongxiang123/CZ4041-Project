{
 "cells": [
  {
   "cell_type": "code",
   "execution_count": 27,
   "metadata": {},
   "outputs": [],
   "source": [
    "import numpy as np\n",
    "import pandas as pd\n",
    "import os\n",
    "\n",
    "import albumentations\n",
    "import cv2\n",
    "import timm\n",
    "import torch.nn as nn\n",
    "from sklearn import metrics\n",
    "import torch\n",
    "from torch.utils.data import Dataset, DataLoader\n",
    "from tqdm import tqdm\n",
    "\n",
    "from sklearn.model_selection import StratifiedKFold\n",
    "from sklearn.metrics import mean_squared_error\n",
    "from sklearn.pipeline import make_pipeline\n",
    "from sklearn.preprocessing import StandardScaler\n",
    "\n",
    "import pytorch_lightning as pl\n",
    "from pytorch_lightning import callbacks\n",
    "from pytorch_lightning.callbacks.early_stopping import EarlyStopping\n",
    "from pytorch_lightning.loggers import TensorBoardLogger\n",
    "from pytorch_lightning import LightningDataModule\n",
    "\n",
    "import glob\n",
    "import matplotlib.pyplot as plt\n",
    "\n",
    "from sklearn.svm import SVR\n",
    "from sklearn.metrics import mean_squared_error\n",
    "from sklearn.model_selection import StratifiedKFold, train_test_split\n",
    "\n",
    "import clip\n",
    "from PIL import Image\n",
    "from joblib import dump, load\n",
    "from timm.data.transforms_factory import create_transform\n",
    "from timm.data import resolve_data_config\n",
    "\n",
    "import time\n",
    "import gc"
   ]
  },
  {
   "cell_type": "code",
   "execution_count": 2,
   "metadata": {},
   "outputs": [],
   "source": [
    "SEED = 2023\n",
    "\n",
    "DATA_DIR = 'data'\n",
    "\n",
    "TRAIN_IMAGES_DIR = os.path.join(DATA_DIR, 'train')\n",
    "TEST_IMAGES_DIR = os.path.join(DATA_DIR, 'test')\n",
    "\n",
    "OUTPUT_DIR = \"output\""
   ]
  },
  {
   "cell_type": "code",
   "execution_count": 3,
   "metadata": {},
   "outputs": [],
   "source": [
    "df_train = pd.read_csv(os.path.join(DATA_DIR, 'train.csv'))\n",
    "df_test = pd.read_csv(os.path.join(DATA_DIR, 'test.csv'))\n",
    "\n",
    "df_train['path'] = df_train['Id'].map(lambda x: os.path.join(TRAIN_IMAGES_DIR, f'{x}.jpg'))\n",
    "df_test['path'] = df_test['Id'].map(lambda x: os.path.join(TEST_IMAGES_DIR, f'{x}.jpg'))"
   ]
  },
  {
   "cell_type": "code",
   "execution_count": 4,
   "metadata": {},
   "outputs": [],
   "source": [
    "def create_folds(data: pd.DataFrame, num_splits = 5):\n",
    "    data[\"fold\"] = -1\n",
    "    num_bins = int(np.floor(1 + np.log2(len(data)))) # sturge's rule\n",
    "\n",
    "    data.loc[:, \"bins\"] = pd.cut(data[\"Pawpularity\"], bins=num_bins, labels=False)\n",
    "    skf = StratifiedKFold(n_splits=num_splits, shuffle=True, random_state=SEED)\n",
    "\n",
    "    for fold_index, (train_idx, val_idx) in enumerate(skf.split(X=data, y=data.bins.values)):\n",
    "        data.loc[val_idx, 'fold'] = fold_index\n",
    "\n",
    "    data = data.drop('bins', axis=1)\n",
    "\n",
    "    return data"
   ]
  },
  {
   "cell_type": "code",
   "execution_count": 5,
   "metadata": {},
   "outputs": [],
   "source": [
    "df_train_5 = create_folds(df_train)"
   ]
  },
  {
   "cell_type": "markdown",
   "metadata": {},
   "source": [
    "# Extract Image Embeddings from Each Architecture"
   ]
  },
  {
   "cell_type": "code",
   "execution_count": 6,
   "metadata": {},
   "outputs": [],
   "source": [
    "names = [\n",
    "    'deit_base_distilled_patch16_384',\n",
    "    'ig_resnext101_32x48d',\n",
    "    'repvgg_b0',\n",
    "    'resnetv2_152x4_bitm',\n",
    "    'swsl_resnext101_32x8d',\n",
    "    'tf_efficientnet_l2_ns_475',\n",
    "    'vit_base_patch16_384',\n",
    "    'vit_large_r50_s32_384',\n",
    "]"
   ]
  },
  {
   "cell_type": "code",
   "execution_count": 7,
   "metadata": {},
   "outputs": [],
   "source": [
    "class PawpularDataset:\n",
    "    def __init__(self, image_paths, modelcfg=None):\n",
    "        self.image_paths = image_paths\n",
    "        self.transform = create_transform(**modelcfg)\n",
    "        \n",
    "    def __len__(self):\n",
    "        return len(self.image_paths)\n",
    "    \n",
    "    def __getitem__(self, item):\n",
    "        img = Image.open(self.image_paths[item]).convert('RGB')\n",
    "        img = self.transform(img)\n",
    "        return img"
   ]
  },
  {
   "cell_type": "code",
   "execution_count": 12,
   "metadata": {},
   "outputs": [],
   "source": [
    "def create_embeddings(df: pd.DataFrame, model_names: list[str]):\n",
    "    embeddings = {}\n",
    "    for model_name in model_names:\n",
    "        starttime = time.time()\n",
    "        model = timm.create_model(model_name=model_name, pretrained=True).to('cuda')\n",
    "        model.eval()\n",
    "\n",
    "        train_dataset = PawpularDataset(image_paths=df['path'].values, modelcfg=resolve_data_config({}, model=model))\n",
    "        train_dataloader = DataLoader(train_dataset, batch_size=4, shuffle=False)\n",
    "\n",
    "        print(model_name, resolve_data_config({}, model=model_name))\n",
    "\n",
    "        with torch.no_grad():\n",
    "            result = [model(img.to('cuda')).cpu().numpy() for img in train_dataloader]\n",
    "        result = np.concatenate(result, 0)\n",
    "\n",
    "        embeddings[model_name] = result\n",
    "        print(f\"{model_name}: {int(time.time() - starttime)}s\")\n",
    "\n",
    "    return embeddings"
   ]
  },
  {
   "cell_type": "code",
   "execution_count": 13,
   "metadata": {},
   "outputs": [
    {
     "name": "stdout",
     "output_type": "stream",
     "text": [
      "deit_base_distilled_patch16_384 {'input_size': (3, 224, 224), 'interpolation': 'bicubic', 'mean': (0.485, 0.456, 0.406), 'std': (0.229, 0.224, 0.225), 'crop_pct': 0.875, 'crop_mode': 'center'}\n",
      "deit_base_distilled_patch16_384: 1193s\n"
     ]
    },
    {
     "name": "stderr",
     "output_type": "stream",
     "text": [
      "d:\\Desktop\\Programming\\CZ4041-Project\\venv\\lib\\site-packages\\timm\\models\\_factory.py:114: UserWarning: Mapping deprecated model name ig_resnext101_32x48d to current resnext101_32x8d.fb_wsl_ig1b_ft_in1k.\n",
      "  model = create_fn(\n"
     ]
    },
    {
     "data": {
      "application/vnd.jupyter.widget-view+json": {
       "model_id": "bb2c0aba95d94b648893fbfa3dc88166",
       "version_major": 2,
       "version_minor": 0
      },
      "text/plain": [
       "Downloading model.safetensors:   0%|          | 0.00/356M [00:00<?, ?B/s]"
      ]
     },
     "metadata": {},
     "output_type": "display_data"
    },
    {
     "name": "stderr",
     "output_type": "stream",
     "text": [
      "d:\\Desktop\\Programming\\CZ4041-Project\\venv\\lib\\site-packages\\huggingface_hub\\file_download.py:137: UserWarning: `huggingface_hub` cache-system uses symlinks by default to efficiently store duplicated files but your machine does not support them in C:\\Users\\asdf\\.cache\\huggingface\\hub. Caching files will still work but in a degraded version that might require more space on your disk. This warning can be disabled by setting the `HF_HUB_DISABLE_SYMLINKS_WARNING` environment variable. For more details, see https://huggingface.co/docs/huggingface_hub/how-to-cache#limitations.\n",
      "To support symlinks on Windows, you either need to activate Developer Mode or to run Python as an administrator. In order to see activate developer mode, see this article: https://docs.microsoft.com/en-us/windows/apps/get-started/enable-your-device-for-development\n",
      "  warnings.warn(message)\n"
     ]
    },
    {
     "name": "stdout",
     "output_type": "stream",
     "text": [
      "ig_resnext101_32x48d {'input_size': (3, 224, 224), 'interpolation': 'bicubic', 'mean': (0.485, 0.456, 0.406), 'std': (0.229, 0.224, 0.225), 'crop_pct': 0.875, 'crop_mode': 'center'}\n",
      "ig_resnext101_32x48d: 406s\n"
     ]
    },
    {
     "data": {
      "application/vnd.jupyter.widget-view+json": {
       "model_id": "c01e04ecad394558aefc8b8f5abc8420",
       "version_major": 2,
       "version_minor": 0
      },
      "text/plain": [
       "Downloading model.safetensors:   0%|          | 0.00/63.5M [00:00<?, ?B/s]"
      ]
     },
     "metadata": {},
     "output_type": "display_data"
    },
    {
     "name": "stdout",
     "output_type": "stream",
     "text": [
      "repvgg_b0 {'input_size': (3, 224, 224), 'interpolation': 'bicubic', 'mean': (0.485, 0.456, 0.406), 'std': (0.229, 0.224, 0.225), 'crop_pct': 0.875, 'crop_mode': 'center'}\n",
      "repvgg_b0: 133s\n"
     ]
    },
    {
     "name": "stderr",
     "output_type": "stream",
     "text": [
      "d:\\Desktop\\Programming\\CZ4041-Project\\venv\\lib\\site-packages\\timm\\models\\_factory.py:114: UserWarning: Mapping deprecated model name resnetv2_152x4_bitm to current resnetv2_152x4_bit.goog_in21k_ft_in1k.\n",
      "  model = create_fn(\n"
     ]
    },
    {
     "data": {
      "application/vnd.jupyter.widget-view+json": {
       "model_id": "af3735050af341ea8ac6a73a77d4993e",
       "version_major": 2,
       "version_minor": 0
      },
      "text/plain": [
       "Downloading model.safetensors:   0%|          | 0.00/3.75G [00:00<?, ?B/s]"
      ]
     },
     "metadata": {},
     "output_type": "display_data"
    },
    {
     "name": "stdout",
     "output_type": "stream",
     "text": [
      "resnetv2_152x4_bitm {'input_size': (3, 224, 224), 'interpolation': 'bicubic', 'mean': (0.485, 0.456, 0.406), 'std': (0.229, 0.224, 0.225), 'crop_pct': 0.875, 'crop_mode': 'center'}\n",
      "resnetv2_152x4_bitm: 3774s\n"
     ]
    },
    {
     "name": "stderr",
     "output_type": "stream",
     "text": [
      "d:\\Desktop\\Programming\\CZ4041-Project\\venv\\lib\\site-packages\\timm\\models\\_factory.py:114: UserWarning: Mapping deprecated model name swsl_resnext101_32x8d to current resnext101_32x8d.fb_swsl_ig1b_ft_in1k.\n",
      "  model = create_fn(\n"
     ]
    },
    {
     "data": {
      "application/vnd.jupyter.widget-view+json": {
       "model_id": "12d1b97517bc440aa27348beb446bcac",
       "version_major": 2,
       "version_minor": 0
      },
      "text/plain": [
       "Downloading model.safetensors:   0%|          | 0.00/356M [00:00<?, ?B/s]"
      ]
     },
     "metadata": {},
     "output_type": "display_data"
    },
    {
     "name": "stdout",
     "output_type": "stream",
     "text": [
      "swsl_resnext101_32x8d {'input_size': (3, 224, 224), 'interpolation': 'bicubic', 'mean': (0.485, 0.456, 0.406), 'std': (0.229, 0.224, 0.225), 'crop_pct': 0.875, 'crop_mode': 'center'}\n",
      "swsl_resnext101_32x8d: 314s\n"
     ]
    },
    {
     "name": "stderr",
     "output_type": "stream",
     "text": [
      "d:\\Desktop\\Programming\\CZ4041-Project\\venv\\lib\\site-packages\\timm\\models\\_factory.py:114: UserWarning: Mapping deprecated model name tf_efficientnet_l2_ns_475 to current tf_efficientnet_l2.ns_jft_in1k_475.\n",
      "  model = create_fn(\n"
     ]
    },
    {
     "name": "stdout",
     "output_type": "stream",
     "text": [
      "tf_efficientnet_l2_ns_475 {'input_size': (3, 224, 224), 'interpolation': 'bicubic', 'mean': (0.485, 0.456, 0.406), 'std': (0.229, 0.224, 0.225), 'crop_pct': 0.875, 'crop_mode': 'center'}\n",
      "tf_efficientnet_l2_ns_475: 2398s\n"
     ]
    },
    {
     "data": {
      "application/vnd.jupyter.widget-view+json": {
       "model_id": "546c0e9b4a964947b6af3370914940fb",
       "version_major": 2,
       "version_minor": 0
      },
      "text/plain": [
       "Downloading model.safetensors:   0%|          | 0.00/347M [00:00<?, ?B/s]"
      ]
     },
     "metadata": {},
     "output_type": "display_data"
    },
    {
     "name": "stdout",
     "output_type": "stream",
     "text": [
      "vit_base_patch16_384 {'input_size': (3, 224, 224), 'interpolation': 'bicubic', 'mean': (0.485, 0.456, 0.406), 'std': (0.229, 0.224, 0.225), 'crop_pct': 0.875, 'crop_mode': 'center'}\n",
      "vit_base_patch16_384: 705s\n"
     ]
    },
    {
     "data": {
      "application/vnd.jupyter.widget-view+json": {
       "model_id": "855a0444d6c244b0b8562132c210c4ca",
       "version_major": 2,
       "version_minor": 0
      },
      "text/plain": [
       "Downloading model.safetensors:   0%|          | 0.00/1.32G [00:00<?, ?B/s]"
      ]
     },
     "metadata": {},
     "output_type": "display_data"
    },
    {
     "name": "stdout",
     "output_type": "stream",
     "text": [
      "vit_large_r50_s32_384 {'input_size': (3, 224, 224), 'interpolation': 'bicubic', 'mean': (0.485, 0.456, 0.406), 'std': (0.229, 0.224, 0.225), 'crop_pct': 0.875, 'crop_mode': 'center'}\n",
      "vit_large_r50_s32_384: 790s\n"
     ]
    }
   ],
   "source": [
    "train_embeddings = create_embeddings(df_train, names)"
   ]
  },
  {
   "cell_type": "code",
   "execution_count": 17,
   "metadata": {},
   "outputs": [
    {
     "data": {
      "text/plain": [
       "['output\\\\train_embeddings.joblib']"
      ]
     },
     "execution_count": 17,
     "metadata": {},
     "output_type": "execute_result"
    }
   ],
   "source": [
    "dump(train_embeddings, os.path.join(OUTPUT_DIR, 'train_embeddings.joblib'))"
   ]
  },
  {
   "cell_type": "code",
   "execution_count": 21,
   "metadata": {},
   "outputs": [],
   "source": [
    "train_embeddings = load(os.path.join(OUTPUT_DIR, 'train_embeddings.joblib'))"
   ]
  },
  {
   "cell_type": "code",
   "execution_count": 22,
   "metadata": {},
   "outputs": [
    {
     "name": "stdout",
     "output_type": "stream",
     "text": [
      "deit_base_distilled_patch16_384: (9912, 1000)\n",
      "ig_resnext101_32x48d: (9912, 1000)\n",
      "repvgg_b0: (9912, 1000)\n",
      "resnetv2_152x4_bitm: (9912, 1000)\n",
      "swsl_resnext101_32x8d: (9912, 1000)\n",
      "tf_efficientnet_l2_ns_475: (9912, 1000)\n",
      "vit_base_patch16_384: (9912, 1000)\n",
      "vit_large_r50_s32_384: (9912, 1000)\n"
     ]
    }
   ],
   "source": [
    "for m in train_embeddings.keys():\n",
    "    print(f\"{m}: {train_embeddings[m].shape}\")"
   ]
  },
  {
   "cell_type": "code",
   "execution_count": 54,
   "metadata": {},
   "outputs": [
    {
     "name": "stderr",
     "output_type": "stream",
     "text": [
      "d:\\Desktop\\Programming\\CZ4041-Project\\venv\\lib\\site-packages\\timm\\models\\_factory.py:114: UserWarning: Mapping deprecated model name ig_resnext101_32x48d to current resnext101_32x8d.fb_wsl_ig1b_ft_in1k.\n",
      "  model = create_fn(\n",
      "d:\\Desktop\\Programming\\CZ4041-Project\\venv\\lib\\site-packages\\timm\\models\\_factory.py:114: UserWarning: Mapping deprecated model name resnetv2_152x4_bitm to current resnetv2_152x4_bit.goog_in21k_ft_in1k.\n",
      "  model = create_fn(\n",
      "d:\\Desktop\\Programming\\CZ4041-Project\\venv\\lib\\site-packages\\timm\\models\\_factory.py:114: UserWarning: Mapping deprecated model name swsl_resnext101_32x8d to current resnext101_32x8d.fb_swsl_ig1b_ft_in1k.\n",
      "  model = create_fn(\n",
      "d:\\Desktop\\Programming\\CZ4041-Project\\venv\\lib\\site-packages\\timm\\models\\_factory.py:114: UserWarning: Mapping deprecated model name tf_efficientnet_l2_ns_475 to current tf_efficientnet_l2.ns_jft_in1k_475.\n",
      "  model = create_fn(\n"
     ]
    }
   ],
   "source": [
    "for model_name in train_embeddings.keys():\n",
    "    model = timm.create_model(model_name=model_name, pretrained=True)\n",
    "    torch.save(model.state_dict(), os.path.join(OUTPUT_DIR, 'base_models', f'{model_name}.ckpt'))"
   ]
  },
  {
   "cell_type": "code",
   "execution_count": 50,
   "metadata": {},
   "outputs": [],
   "source": [
    "def fit_svr(df_train: pd.DataFrame, embeddings_train: np.array, df_test: pd.DataFrame, embeddings_test: np.array):\n",
    "    train_predictions = np.zeros(df_train.shape[0])\n",
    "    test_predictions = np.zeros(df_test.shape[0])\n",
    "\n",
    "    n_folds = df_train['fold'].max() + 1\n",
    "    for fold in tqdm(range(n_folds)):\n",
    "        train_idx = df_train['fold'] != fold\n",
    "        val_idx = df_train['fold'] == fold\n",
    "\n",
    "        model = make_pipeline(StandardScaler(), SVR(C=16.0, kernel='rbf', degree=3, max_iter=10000))\n",
    "        model.fit(train_embeddings[train_idx], df_train['Pawpularity'][train_idx])\n",
    "\n",
    "        train_predictions[val_idx] = np.clip(model.predict(train_embeddings[val_idx]), 1, 100)\n",
    "        test_predictions += np.clip(model.predict(embeddings_test), 1, 100)\n",
    "\n",
    "        del model\n",
    "        gc.collect()\n",
    "\n",
    "    test_predictions /= n_folds\n",
    "\n",
    "    return train_predictions, test_predictions"
   ]
  },
  {
   "cell_type": "code",
   "execution_count": 51,
   "metadata": {},
   "outputs": [
    {
     "name": "stderr",
     "output_type": "stream",
     "text": [
      "  0%|          | 0/5 [00:00<?, ?it/s]d:\\Desktop\\Programming\\CZ4041-Project\\venv\\lib\\site-packages\\sklearn\\svm\\_base.py:297: ConvergenceWarning: Solver terminated early (max_iter=10000).  Consider pre-processing your data with StandardScaler or MinMaxScaler.\n",
      "  warnings.warn(\n",
      " 20%|██        | 1/5 [00:28<01:55, 28.75s/it]d:\\Desktop\\Programming\\CZ4041-Project\\venv\\lib\\site-packages\\sklearn\\svm\\_base.py:297: ConvergenceWarning: Solver terminated early (max_iter=10000).  Consider pre-processing your data with StandardScaler or MinMaxScaler.\n",
      "  warnings.warn(\n",
      " 40%|████      | 2/5 [00:57<01:25, 28.58s/it]d:\\Desktop\\Programming\\CZ4041-Project\\venv\\lib\\site-packages\\sklearn\\svm\\_base.py:297: ConvergenceWarning: Solver terminated early (max_iter=10000).  Consider pre-processing your data with StandardScaler or MinMaxScaler.\n",
      "  warnings.warn(\n",
      " 60%|██████    | 3/5 [01:25<00:57, 28.66s/it]d:\\Desktop\\Programming\\CZ4041-Project\\venv\\lib\\site-packages\\sklearn\\svm\\_base.py:297: ConvergenceWarning: Solver terminated early (max_iter=10000).  Consider pre-processing your data with StandardScaler or MinMaxScaler.\n",
      "  warnings.warn(\n",
      " 80%|████████  | 4/5 [01:54<00:28, 28.71s/it]d:\\Desktop\\Programming\\CZ4041-Project\\venv\\lib\\site-packages\\sklearn\\svm\\_base.py:297: ConvergenceWarning: Solver terminated early (max_iter=10000).  Consider pre-processing your data with StandardScaler or MinMaxScaler.\n",
      "  warnings.warn(\n",
      "100%|██████████| 5/5 [02:23<00:00, 28.73s/it]\n"
     ]
    },
    {
     "name": "stdout",
     "output_type": "stream",
     "text": [
      "deit_base_distilled_patch16_384: 17.746481730444195\n"
     ]
    },
    {
     "name": "stderr",
     "output_type": "stream",
     "text": [
      "  0%|          | 0/5 [00:00<?, ?it/s]d:\\Desktop\\Programming\\CZ4041-Project\\venv\\lib\\site-packages\\sklearn\\svm\\_base.py:297: ConvergenceWarning: Solver terminated early (max_iter=10000).  Consider pre-processing your data with StandardScaler or MinMaxScaler.\n",
      "  warnings.warn(\n",
      " 20%|██        | 1/5 [00:28<01:54, 28.65s/it]d:\\Desktop\\Programming\\CZ4041-Project\\venv\\lib\\site-packages\\sklearn\\svm\\_base.py:297: ConvergenceWarning: Solver terminated early (max_iter=10000).  Consider pre-processing your data with StandardScaler or MinMaxScaler.\n",
      "  warnings.warn(\n",
      " 40%|████      | 2/5 [00:57<01:26, 28.72s/it]d:\\Desktop\\Programming\\CZ4041-Project\\venv\\lib\\site-packages\\sklearn\\svm\\_base.py:297: ConvergenceWarning: Solver terminated early (max_iter=10000).  Consider pre-processing your data with StandardScaler or MinMaxScaler.\n",
      "  warnings.warn(\n",
      " 60%|██████    | 3/5 [01:26<00:57, 28.68s/it]d:\\Desktop\\Programming\\CZ4041-Project\\venv\\lib\\site-packages\\sklearn\\svm\\_base.py:297: ConvergenceWarning: Solver terminated early (max_iter=10000).  Consider pre-processing your data with StandardScaler or MinMaxScaler.\n",
      "  warnings.warn(\n",
      " 80%|████████  | 4/5 [01:54<00:28, 28.70s/it]d:\\Desktop\\Programming\\CZ4041-Project\\venv\\lib\\site-packages\\sklearn\\svm\\_base.py:297: ConvergenceWarning: Solver terminated early (max_iter=10000).  Consider pre-processing your data with StandardScaler or MinMaxScaler.\n",
      "  warnings.warn(\n",
      "100%|██████████| 5/5 [02:23<00:00, 28.68s/it]\n"
     ]
    },
    {
     "name": "stdout",
     "output_type": "stream",
     "text": [
      "ig_resnext101_32x48d: 17.838338085632664\n"
     ]
    },
    {
     "name": "stderr",
     "output_type": "stream",
     "text": [
      "  0%|          | 0/5 [00:00<?, ?it/s]d:\\Desktop\\Programming\\CZ4041-Project\\venv\\lib\\site-packages\\sklearn\\svm\\_base.py:297: ConvergenceWarning: Solver terminated early (max_iter=10000).  Consider pre-processing your data with StandardScaler or MinMaxScaler.\n",
      "  warnings.warn(\n",
      " 20%|██        | 1/5 [00:28<01:55, 28.89s/it]d:\\Desktop\\Programming\\CZ4041-Project\\venv\\lib\\site-packages\\sklearn\\svm\\_base.py:297: ConvergenceWarning: Solver terminated early (max_iter=10000).  Consider pre-processing your data with StandardScaler or MinMaxScaler.\n",
      "  warnings.warn(\n",
      " 40%|████      | 2/5 [00:57<01:26, 28.90s/it]d:\\Desktop\\Programming\\CZ4041-Project\\venv\\lib\\site-packages\\sklearn\\svm\\_base.py:297: ConvergenceWarning: Solver terminated early (max_iter=10000).  Consider pre-processing your data with StandardScaler or MinMaxScaler.\n",
      "  warnings.warn(\n",
      " 60%|██████    | 3/5 [01:26<00:57, 28.98s/it]d:\\Desktop\\Programming\\CZ4041-Project\\venv\\lib\\site-packages\\sklearn\\svm\\_base.py:297: ConvergenceWarning: Solver terminated early (max_iter=10000).  Consider pre-processing your data with StandardScaler or MinMaxScaler.\n",
      "  warnings.warn(\n",
      " 80%|████████  | 4/5 [01:55<00:28, 28.95s/it]d:\\Desktop\\Programming\\CZ4041-Project\\venv\\lib\\site-packages\\sklearn\\svm\\_base.py:297: ConvergenceWarning: Solver terminated early (max_iter=10000).  Consider pre-processing your data with StandardScaler or MinMaxScaler.\n",
      "  warnings.warn(\n",
      "100%|██████████| 5/5 [02:24<00:00, 28.95s/it]\n"
     ]
    },
    {
     "name": "stdout",
     "output_type": "stream",
     "text": [
      "repvgg_b0: 18.29408309587672\n"
     ]
    },
    {
     "name": "stderr",
     "output_type": "stream",
     "text": [
      "  0%|          | 0/5 [00:00<?, ?it/s]d:\\Desktop\\Programming\\CZ4041-Project\\venv\\lib\\site-packages\\sklearn\\svm\\_base.py:297: ConvergenceWarning: Solver terminated early (max_iter=10000).  Consider pre-processing your data with StandardScaler or MinMaxScaler.\n",
      "  warnings.warn(\n",
      " 20%|██        | 1/5 [00:28<01:55, 28.96s/it]d:\\Desktop\\Programming\\CZ4041-Project\\venv\\lib\\site-packages\\sklearn\\svm\\_base.py:297: ConvergenceWarning: Solver terminated early (max_iter=10000).  Consider pre-processing your data with StandardScaler or MinMaxScaler.\n",
      "  warnings.warn(\n",
      " 40%|████      | 2/5 [00:57<01:26, 28.89s/it]d:\\Desktop\\Programming\\CZ4041-Project\\venv\\lib\\site-packages\\sklearn\\svm\\_base.py:297: ConvergenceWarning: Solver terminated early (max_iter=10000).  Consider pre-processing your data with StandardScaler or MinMaxScaler.\n",
      "  warnings.warn(\n",
      " 60%|██████    | 3/5 [01:26<00:57, 28.83s/it]d:\\Desktop\\Programming\\CZ4041-Project\\venv\\lib\\site-packages\\sklearn\\svm\\_base.py:297: ConvergenceWarning: Solver terminated early (max_iter=10000).  Consider pre-processing your data with StandardScaler or MinMaxScaler.\n",
      "  warnings.warn(\n",
      " 80%|████████  | 4/5 [01:55<00:28, 28.69s/it]d:\\Desktop\\Programming\\CZ4041-Project\\venv\\lib\\site-packages\\sklearn\\svm\\_base.py:297: ConvergenceWarning: Solver terminated early (max_iter=10000).  Consider pre-processing your data with StandardScaler or MinMaxScaler.\n",
      "  warnings.warn(\n",
      "100%|██████████| 5/5 [02:24<00:00, 28.81s/it]\n"
     ]
    },
    {
     "name": "stdout",
     "output_type": "stream",
     "text": [
      "resnetv2_152x4_bitm: 18.115660189738307\n"
     ]
    },
    {
     "name": "stderr",
     "output_type": "stream",
     "text": [
      "  0%|          | 0/5 [00:00<?, ?it/s]d:\\Desktop\\Programming\\CZ4041-Project\\venv\\lib\\site-packages\\sklearn\\svm\\_base.py:297: ConvergenceWarning: Solver terminated early (max_iter=10000).  Consider pre-processing your data with StandardScaler or MinMaxScaler.\n",
      "  warnings.warn(\n",
      " 20%|██        | 1/5 [00:28<01:53, 28.37s/it]d:\\Desktop\\Programming\\CZ4041-Project\\venv\\lib\\site-packages\\sklearn\\svm\\_base.py:297: ConvergenceWarning: Solver terminated early (max_iter=10000).  Consider pre-processing your data with StandardScaler or MinMaxScaler.\n",
      "  warnings.warn(\n",
      " 40%|████      | 2/5 [00:55<01:23, 27.84s/it]d:\\Desktop\\Programming\\CZ4041-Project\\venv\\lib\\site-packages\\sklearn\\svm\\_base.py:297: ConvergenceWarning: Solver terminated early (max_iter=10000).  Consider pre-processing your data with StandardScaler or MinMaxScaler.\n",
      "  warnings.warn(\n",
      " 60%|██████    | 3/5 [01:23<00:55, 27.62s/it]d:\\Desktop\\Programming\\CZ4041-Project\\venv\\lib\\site-packages\\sklearn\\svm\\_base.py:297: ConvergenceWarning: Solver terminated early (max_iter=10000).  Consider pre-processing your data with StandardScaler or MinMaxScaler.\n",
      "  warnings.warn(\n",
      " 80%|████████  | 4/5 [01:50<00:27, 27.56s/it]d:\\Desktop\\Programming\\CZ4041-Project\\venv\\lib\\site-packages\\sklearn\\svm\\_base.py:297: ConvergenceWarning: Solver terminated early (max_iter=10000).  Consider pre-processing your data with StandardScaler or MinMaxScaler.\n",
      "  warnings.warn(\n",
      "100%|██████████| 5/5 [02:17<00:00, 27.58s/it]\n"
     ]
    },
    {
     "name": "stdout",
     "output_type": "stream",
     "text": [
      "swsl_resnext101_32x8d: 17.963666051415686\n"
     ]
    },
    {
     "name": "stderr",
     "output_type": "stream",
     "text": [
      "  0%|          | 0/5 [00:00<?, ?it/s]d:\\Desktop\\Programming\\CZ4041-Project\\venv\\lib\\site-packages\\sklearn\\svm\\_base.py:297: ConvergenceWarning: Solver terminated early (max_iter=10000).  Consider pre-processing your data with StandardScaler or MinMaxScaler.\n",
      "  warnings.warn(\n",
      " 20%|██        | 1/5 [00:27<01:49, 27.37s/it]d:\\Desktop\\Programming\\CZ4041-Project\\venv\\lib\\site-packages\\sklearn\\svm\\_base.py:297: ConvergenceWarning: Solver terminated early (max_iter=10000).  Consider pre-processing your data with StandardScaler or MinMaxScaler.\n",
      "  warnings.warn(\n",
      " 40%|████      | 2/5 [00:54<01:20, 26.96s/it]d:\\Desktop\\Programming\\CZ4041-Project\\venv\\lib\\site-packages\\sklearn\\svm\\_base.py:297: ConvergenceWarning: Solver terminated early (max_iter=10000).  Consider pre-processing your data with StandardScaler or MinMaxScaler.\n",
      "  warnings.warn(\n",
      " 60%|██████    | 3/5 [01:21<00:54, 27.10s/it]d:\\Desktop\\Programming\\CZ4041-Project\\venv\\lib\\site-packages\\sklearn\\svm\\_base.py:297: ConvergenceWarning: Solver terminated early (max_iter=10000).  Consider pre-processing your data with StandardScaler or MinMaxScaler.\n",
      "  warnings.warn(\n",
      " 80%|████████  | 4/5 [01:48<00:27, 27.28s/it]d:\\Desktop\\Programming\\CZ4041-Project\\venv\\lib\\site-packages\\sklearn\\svm\\_base.py:297: ConvergenceWarning: Solver terminated early (max_iter=10000).  Consider pre-processing your data with StandardScaler or MinMaxScaler.\n",
      "  warnings.warn(\n",
      "100%|██████████| 5/5 [02:17<00:00, 27.51s/it]\n"
     ]
    },
    {
     "name": "stdout",
     "output_type": "stream",
     "text": [
      "tf_efficientnet_l2_ns_475: 17.621301474475345\n"
     ]
    },
    {
     "name": "stderr",
     "output_type": "stream",
     "text": [
      "  0%|          | 0/5 [00:00<?, ?it/s]d:\\Desktop\\Programming\\CZ4041-Project\\venv\\lib\\site-packages\\sklearn\\svm\\_base.py:297: ConvergenceWarning: Solver terminated early (max_iter=10000).  Consider pre-processing your data with StandardScaler or MinMaxScaler.\n",
      "  warnings.warn(\n",
      " 20%|██        | 1/5 [00:28<01:52, 28.06s/it]d:\\Desktop\\Programming\\CZ4041-Project\\venv\\lib\\site-packages\\sklearn\\svm\\_base.py:297: ConvergenceWarning: Solver terminated early (max_iter=10000).  Consider pre-processing your data with StandardScaler or MinMaxScaler.\n",
      "  warnings.warn(\n",
      " 40%|████      | 2/5 [00:55<01:22, 27.47s/it]d:\\Desktop\\Programming\\CZ4041-Project\\venv\\lib\\site-packages\\sklearn\\svm\\_base.py:297: ConvergenceWarning: Solver terminated early (max_iter=10000).  Consider pre-processing your data with StandardScaler or MinMaxScaler.\n",
      "  warnings.warn(\n",
      " 60%|██████    | 3/5 [01:22<00:54, 27.35s/it]d:\\Desktop\\Programming\\CZ4041-Project\\venv\\lib\\site-packages\\sklearn\\svm\\_base.py:297: ConvergenceWarning: Solver terminated early (max_iter=10000).  Consider pre-processing your data with StandardScaler or MinMaxScaler.\n",
      "  warnings.warn(\n",
      " 80%|████████  | 4/5 [01:49<00:27, 27.32s/it]d:\\Desktop\\Programming\\CZ4041-Project\\venv\\lib\\site-packages\\sklearn\\svm\\_base.py:297: ConvergenceWarning: Solver terminated early (max_iter=10000).  Consider pre-processing your data with StandardScaler or MinMaxScaler.\n",
      "  warnings.warn(\n",
      "100%|██████████| 5/5 [02:17<00:00, 27.46s/it]\n"
     ]
    },
    {
     "name": "stdout",
     "output_type": "stream",
     "text": [
      "vit_base_patch16_384: 17.912905349526373\n"
     ]
    },
    {
     "name": "stderr",
     "output_type": "stream",
     "text": [
      "  0%|          | 0/5 [00:00<?, ?it/s]d:\\Desktop\\Programming\\CZ4041-Project\\venv\\lib\\site-packages\\sklearn\\svm\\_base.py:297: ConvergenceWarning: Solver terminated early (max_iter=10000).  Consider pre-processing your data with StandardScaler or MinMaxScaler.\n",
      "  warnings.warn(\n",
      " 20%|██        | 1/5 [00:28<01:52, 28.15s/it]d:\\Desktop\\Programming\\CZ4041-Project\\venv\\lib\\site-packages\\sklearn\\svm\\_base.py:297: ConvergenceWarning: Solver terminated early (max_iter=10000).  Consider pre-processing your data with StandardScaler or MinMaxScaler.\n",
      "  warnings.warn(\n",
      " 40%|████      | 2/5 [00:56<01:25, 28.38s/it]d:\\Desktop\\Programming\\CZ4041-Project\\venv\\lib\\site-packages\\sklearn\\svm\\_base.py:297: ConvergenceWarning: Solver terminated early (max_iter=10000).  Consider pre-processing your data with StandardScaler or MinMaxScaler.\n",
      "  warnings.warn(\n",
      " 60%|██████    | 3/5 [01:24<00:56, 28.10s/it]d:\\Desktop\\Programming\\CZ4041-Project\\venv\\lib\\site-packages\\sklearn\\svm\\_base.py:297: ConvergenceWarning: Solver terminated early (max_iter=10000).  Consider pre-processing your data with StandardScaler or MinMaxScaler.\n",
      "  warnings.warn(\n",
      " 80%|████████  | 4/5 [01:52<00:27, 27.93s/it]d:\\Desktop\\Programming\\CZ4041-Project\\venv\\lib\\site-packages\\sklearn\\svm\\_base.py:297: ConvergenceWarning: Solver terminated early (max_iter=10000).  Consider pre-processing your data with StandardScaler or MinMaxScaler.\n",
      "  warnings.warn(\n",
      "100%|██████████| 5/5 [02:20<00:00, 28.08s/it]"
     ]
    },
    {
     "name": "stdout",
     "output_type": "stream",
     "text": [
      "vit_large_r50_s32_384: 18.010305929024177\n"
     ]
    },
    {
     "name": "stderr",
     "output_type": "stream",
     "text": [
      "\n"
     ]
    }
   ],
   "source": [
    "for col in names:\n",
    "    predictions = fit_svr(df_train, train_embeddings[col].copy())\n",
    "    print(f\"{col}: {mean_squared_error(df_train['Pawpularity'], predictions, squared=False)}\")"
   ]
  },
  {
   "cell_type": "code",
   "execution_count": 52,
   "metadata": {},
   "outputs": [
    {
     "name": "stderr",
     "output_type": "stream",
     "text": [
      "  0%|          | 0/5 [00:00<?, ?it/s]d:\\Desktop\\Programming\\CZ4041-Project\\venv\\lib\\site-packages\\sklearn\\svm\\_base.py:297: ConvergenceWarning: Solver terminated early (max_iter=10000).  Consider pre-processing your data with StandardScaler or MinMaxScaler.\n",
      "  warnings.warn(\n",
      " 20%|██        | 1/5 [03:37<14:28, 217.22s/it]d:\\Desktop\\Programming\\CZ4041-Project\\venv\\lib\\site-packages\\sklearn\\svm\\_base.py:297: ConvergenceWarning: Solver terminated early (max_iter=10000).  Consider pre-processing your data with StandardScaler or MinMaxScaler.\n",
      "  warnings.warn(\n",
      " 40%|████      | 2/5 [07:16<10:55, 218.44s/it]d:\\Desktop\\Programming\\CZ4041-Project\\venv\\lib\\site-packages\\sklearn\\svm\\_base.py:297: ConvergenceWarning: Solver terminated early (max_iter=10000).  Consider pre-processing your data with StandardScaler or MinMaxScaler.\n",
      "  warnings.warn(\n",
      " 60%|██████    | 3/5 [10:59<07:20, 220.44s/it]d:\\Desktop\\Programming\\CZ4041-Project\\venv\\lib\\site-packages\\sklearn\\svm\\_base.py:297: ConvergenceWarning: Solver terminated early (max_iter=10000).  Consider pre-processing your data with StandardScaler or MinMaxScaler.\n",
      "  warnings.warn(\n",
      " 80%|████████  | 4/5 [14:27<03:35, 215.72s/it]d:\\Desktop\\Programming\\CZ4041-Project\\venv\\lib\\site-packages\\sklearn\\svm\\_base.py:297: ConvergenceWarning: Solver terminated early (max_iter=10000).  Consider pre-processing your data with StandardScaler or MinMaxScaler.\n",
      "  warnings.warn(\n",
      "100%|██████████| 5/5 [18:15<00:00, 219.03s/it]"
     ]
    },
    {
     "name": "stdout",
     "output_type": "stream",
     "text": [
      "Overall MSE: 17.315638205844333\n"
     ]
    },
    {
     "name": "stderr",
     "output_type": "stream",
     "text": [
      "\n"
     ]
    }
   ],
   "source": [
    "concatenated_embeddings = np.concatenate([train_embeddings[k] for k in names], 1)\n",
    "predictions = fit_svr(df_train, concatenated_embeddings.copy())"
   ]
  },
  {
   "cell_type": "code",
   "execution_count": 53,
   "metadata": {},
   "outputs": [
    {
     "name": "stdout",
     "output_type": "stream",
     "text": [
      "Overall MSE: 17.315638205844333\n"
     ]
    }
   ],
   "source": [
    "print(f\"Overall MSE: {mean_squared_error(df_train['Pawpularity'], predictions, squared=False)}\")"
   ]
  },
  {
   "cell_type": "code",
   "execution_count": 55,
   "metadata": {},
   "outputs": [
    {
     "data": {
      "text/plain": [
       "'2.1.1'"
      ]
     },
     "execution_count": 55,
     "metadata": {},
     "output_type": "execute_result"
    }
   ],
   "source": [
    "pd.__version__"
   ]
  },
  {
   "cell_type": "code",
   "execution_count": null,
   "metadata": {},
   "outputs": [],
   "source": []
  }
 ],
 "metadata": {
  "kernelspec": {
   "display_name": "venv",
   "language": "python",
   "name": "python3"
  },
  "language_info": {
   "codemirror_mode": {
    "name": "ipython",
    "version": 3
   },
   "file_extension": ".py",
   "mimetype": "text/x-python",
   "name": "python",
   "nbconvert_exporter": "python",
   "pygments_lexer": "ipython3",
   "version": "3.10.6"
  },
  "orig_nbformat": 4
 },
 "nbformat": 4,
 "nbformat_minor": 2
}
